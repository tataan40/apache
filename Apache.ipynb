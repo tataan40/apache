{
  "nbformat": 4,
  "nbformat_minor": 0,
  "metadata": {
    "colab": {
      "name": "Apache.ipynb",
      "provenance": [],
      "collapsed_sections": [],
      "authorship_tag": "ABX9TyMapWWHZyxd0ZKW1zyF9mIP",
      "include_colab_link": true
    },
    "kernelspec": {
      "name": "python3",
      "display_name": "Python 3"
    },
    "language_info": {
      "name": "python"
    }
  },
  "cells": [
    {
      "cell_type": "markdown",
      "metadata": {
        "id": "view-in-github",
        "colab_type": "text"
      },
      "source": [
        "<a href=\"https://colab.research.google.com/github/tataan40/apache/blob/main/Apache.ipynb\" target=\"_parent\"><img src=\"https://colab.research.google.com/assets/colab-badge.svg\" alt=\"Open In Colab\"/></a>"
      ]
    },
    {
      "cell_type": "code",
      "metadata": {
        "id": "GKrivX7IZYfA"
      },
      "source": [
        "!pip install apache-beam"
      ],
      "execution_count": null,
      "outputs": []
    },
    {
      "cell_type": "code",
      "metadata": {
        "id": "pnCiDKuuZKeG"
      },
      "source": [
        "import apache_beam as beam \n",
        "import re\n",
        "from collections import Counter\n"
      ],
      "execution_count": 3,
      "outputs": []
    },
    {
      "cell_type": "code",
      "metadata": {
        "id": "XTxGdlpOb0mC"
      },
      "source": [
        "from apache_beam.transforms.window import *\n",
        "from apache_beam.io.textio import WriteToText"
      ],
      "execution_count": 23,
      "outputs": []
    },
    {
      "cell_type": "markdown",
      "metadata": {
        "id": "2CsyZPOwyOd-"
      },
      "source": [
        "Streaming Case Study"
      ]
    },
    {
      "cell_type": "code",
      "metadata": {
        "id": "OVBID3WZZtlr"
      },
      "source": [
        "class AddTimestampDoFn(beam.DoFn):\n",
        "    def process(self, element):\n",
        "        unix_timestamp = element[\"timestamp\"]\n",
        "        element = (element[\"userId\"], element[\"click\"])\n",
        "\n",
        "        yield TimestampedValue(element, unix_timestamp)"
      ],
      "execution_count": null,
      "outputs": []
    },
    {
      "cell_type": "code",
      "metadata": {
        "colab": {
          "base_uri": "https://localhost:8080/"
        },
        "id": "hNdPq-NsZi2P",
        "outputId": "8058d0d2-b7ac-4a75-e780-244f9233b8ef"
      },
      "source": [
        "with beam.Pipeline() as pipeline:\n",
        "  logs = (\n",
        "      pipeline\n",
        "      | beam.Create([\n",
        "            {\"userId\": \"Andy\", \"click\": 1, \"timestamp\": 1603112520},  # Event time: 13:02\n",
        "            {\"userId\": \"Sam\", \"click\": 1, \"timestamp\": 1603113240},  # Event time: 13:14\n",
        "            {\"userId\": \"Andy\", \"click\": 1, \"timestamp\": 1603115820},  # Event time: 13:57\n",
        "            {\"userId\": \"Andy\", \"click\": 1, \"timestamp\": 1603113600},  # Event time: 13:20\n",
        "      ])\n",
        "      | beam.ParDo(AddTimestampDoFn()) \n",
        "      | beam.WindowInto(Sessions(gap_size=30*60))\n",
        "      | beam.CombinePerKey(sum)\n",
        "      | WriteToText(file_path_prefix=\"file\")\n",
        "      #| beam.Map(print)\n",
        "  )"
      ],
      "execution_count": null,
      "outputs": [
        {
          "output_type": "stream",
          "name": "stderr",
          "text": [
            "WARNING:root:Make sure that locally built Python SDK docker image has Python 3.7 interpreter.\n"
          ]
        }
      ]
    },
    {
      "cell_type": "markdown",
      "metadata": {
        "id": "XHqB6VBEyKXE"
      },
      "source": [
        "Text Filtering\n"
      ]
    },
    {
      "cell_type": "code",
      "metadata": {
        "id": "QIHAnPlsVlck"
      },
      "source": [
        "class TextSplit(beam.DoFn):\n",
        "  def process(self, element):\n",
        "    words = element.split() \n",
        "    yield words\n",
        "\n",
        "\n",
        "class ScoreWords(beam.DoFn):\n",
        "  def process(self, element):\n",
        "    counts = Counter(element)\n",
        "    yield counts\n",
        "\n",
        "class Filter(beam.DoFn):\n",
        "    def process(self, element):\n",
        "      list_filtered = list(filter(lambda x : r'^le' in x, element))\n",
        "      #counts = Counter(list_filtered)\n",
        "      return [list_filtered]\n",
        "    \n"
      ],
      "execution_count": null,
      "outputs": []
    },
    {
      "cell_type": "code",
      "metadata": {
        "id": "6woxpqu-sSSf",
        "colab": {
          "base_uri": "https://localhost:8080/"
        },
        "outputId": "f0d73211-7086-4914-c32c-531be6cf8e81"
      },
      "source": [
        "with beam.Pipeline() as pipeline:\n",
        "  pipe1 = (pipeline\n",
        "           | beam.Create([\"L’Europe contribue désormais à plus de la moitié des nouveaux décès liés au Covid-19 dans le monde. En particulier la Russie, l’Ukraine et la Roumanie. Rien d’étonnant, puisque le continent est au cœur de la reprise épidémique qui s’installe depuis quelques semaines au gré des premiers frimas de l’hiver. Le chiffre n’en reste pas moins inquiétant, alors que l’Europe représentait jusque-là un peu plus du quart des quelque 5 millions de morts provoqués par l’épidémie depuis mars 2020. Un cap symbolique franchi le 1er novembre, selon les données officielles fournies par les différents pays et compilées notamment par l’Organisation mondiale de la santé (OMS).\"])\n",
        "           #| beam.Map(lambda x: x.split()) Do the same thing with a lambda function\n",
        "           | beam.ParDo(TextSplit())\n",
        "           | beam.ParDo(Filter())\n",
        "           | beam.ParDo(ScoreWords())\n",
        "           | beam.Map(print)\n",
        "           )\n"
      ],
      "execution_count": null,
      "outputs": [
        {
          "output_type": "stream",
          "name": "stderr",
          "text": [
            "WARNING:root:Make sure that locally built Python SDK docker image has Python 3.7 interpreter.\n"
          ]
        },
        {
          "output_type": "stream",
          "name": "stdout",
          "text": [
            "Counter()\n"
          ]
        }
      ]
    },
    {
      "cell_type": "markdown",
      "metadata": {
        "id": "JcDBrnIM9cnq"
      },
      "source": [
        "Streaming Stingray Use Case"
      ]
    },
    {
      "cell_type": "code",
      "metadata": {
        "id": "P3ctYj9w8l6S"
      },
      "source": [
        "class SessionDuration(beam.DoFn):\n",
        "  def process(self,element):\n",
        "    user_id = element[\"userId\"]\n",
        "    duration = 10\n",
        "    unix_timestamp = element[\"timestamp\"]\n",
        "    start = element[\"start\"]\n",
        "    end = element[\"end\"]\n",
        "    yield TimestampedValue((user_id,duration),unix_timestamp)\n"
      ],
      "execution_count": 107,
      "outputs": []
    },
    {
      "cell_type": "code",
      "metadata": {
        "colab": {
          "base_uri": "https://localhost:8080/"
        },
        "id": "tQdwakOKWbwz",
        "outputId": "3c2c5f62-d4b7-4caa-a693-e307982c72ef"
      },
      "source": [
        "with beam.Pipeline() as pipeline:\n",
        "  logs = (\n",
        "      pipeline\n",
        "      | beam.Create([\n",
        "            {\"userId\": \"001\", \"start\": 1, \"end\": 0, \"timestamp\": 1603112520},  # Event time: 13:02 for User 001\n",
        "            {\"userId\": \"001\", \"start\": 0, \"end\": 0, \"timestamp\": 1603112530},\n",
        "            {\"userId\": \"001\", \"start\": 0, \"end\": 0, \"timestamp\": 1603112540},\n",
        "            {\"userId\": \"001\", \"start\": 0, \"end\": 0, \"timestamp\": 1603112550},\n",
        "            {\"userId\": \"001\", \"start\": 0, \"end\": 0, \"timestamp\": 1603112560},\n",
        "            {\"userId\": \"001\", \"start\": 0, \"end\": 0, \"timestamp\": 1603112570},\n",
        "            {\"userId\": \"001\", \"start\": 0, \"end\": 0, \"timestamp\": 1603112580},\n",
        "            {\"userId\": \"004\", \"start\": 1, \"end\": 0, \"timestamp\": 1603113240},  # Event time: 13:14 for User 004\n",
        "            {\"userId\": \"004\", \"start\": 0, \"end\": 0, \"timestamp\": 1603113250},\n",
        "            {\"userId\": \"004\", \"start\": 0, \"end\": 0, \"timestamp\": 1603113260},\n",
        "            {\"userId\": \"004\", \"start\": 0, \"end\": 0, \"timestamp\": 1603113270},\n",
        "            {\"userId\": \"004\", \"start\": 0, \"end\": 0, \"timestamp\": 1603113280},\n",
        "            {\"userId\": \"002\", \"start\": 1, \"end\": 0, \"timestamp\": 1603115820},  # Event time: 13:57 for User 002\n",
        "            {\"userId\": \"002\", \"start\": 0, \"end\": 0, \"timestamp\": 1603115830},\n",
        "            {\"userId\": \"002\", \"start\": 0, \"end\": 0, \"timestamp\": 1603115840},\n",
        "            {\"userId\": \"002\", \"start\": 0, \"end\": 0, \"timestamp\": 1603115850},\n",
        "            {\"userId\": \"002\", \"start\": 0, \"end\": 0, \"timestamp\": 1603115860},\n",
        "            {\"userId\": \"001\", \"start\": 1, \"end\": 0, \"timestamp\": 1603113600},  # Event time: 13:20 for User 001\n",
        "      ])\n",
        "      | beam.ParDo(SessionDuration())\n",
        "      | beam.WindowInto(Sessions(100))\n",
        "      | beam.CombinePerKey(sum)\n",
        "      #| beam.io.WriteToText(file_path_prefix=\"Streaming\")\n",
        "      | beam.Map(print)\n",
        "  )"
      ],
      "execution_count": 110,
      "outputs": [
        {
          "output_type": "stream",
          "name": "stderr",
          "text": [
            "WARNING:root:Make sure that locally built Python SDK docker image has Python 3.7 interpreter.\n"
          ]
        },
        {
          "output_type": "stream",
          "name": "stdout",
          "text": [
            "('001', 70)\n",
            "('001', 10)\n",
            "('004', 50)\n",
            "('002', 50)\n"
          ]
        }
      ]
    },
    {
      "cell_type": "code",
      "metadata": {
        "id": "9s2KesJX9kHX"
      },
      "source": [
        ""
      ],
      "execution_count": null,
      "outputs": []
    }
  ]
}